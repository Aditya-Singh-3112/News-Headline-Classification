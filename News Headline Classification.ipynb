{
 "cells": [
  {
   "cell_type": "markdown",
   "id": "0284512c",
   "metadata": {},
   "source": [
    "# News Headline Classification"
   ]
  },
  {
   "cell_type": "markdown",
   "id": "5604984e",
   "metadata": {},
   "source": [
    "### Importing Required libraries"
   ]
  },
  {
   "cell_type": "code",
   "execution_count": 38,
   "id": "5f69620a",
   "metadata": {},
   "outputs": [],
   "source": [
    "import numpy as np\n",
    "import pandas as pd\n",
    "import seaborn as sns\n",
    "import matplotlib.pyplot as plt\n",
    "from sklearn.model_selection import train_test_split\n",
    "import tensorflow\n",
    "from tensorflow.keras.preprocessing.text import Tokenizer\n",
    "from tensorflow.keras.preprocessing.sequence import pad_sequences\n",
    "from tensorflow.keras.layers import Flatten, LSTM, Dense, Input, Activation, Embedding\n",
    "from tensorflow.keras.models import Model\n",
    "from tensorflow.keras.optimizers import Adam\n",
    "from tensorflow.keras.losses import SparseCategoricalCrossentropy"
   ]
  },
  {
   "cell_type": "markdown",
   "id": "b4d72135",
   "metadata": {},
   "source": [
    "### Importing the dataset"
   ]
  },
  {
   "cell_type": "code",
   "execution_count": 2,
   "id": "0a0f83c1",
   "metadata": {},
   "outputs": [],
   "source": [
    "df = pd.read_json('News_Category_Dataset_v2.json', lines = True)"
   ]
  },
  {
   "cell_type": "code",
   "execution_count": 3,
   "id": "94c4f403",
   "metadata": {},
   "outputs": [
    {
     "data": {
      "text/html": [
       "<div>\n",
       "<style scoped>\n",
       "    .dataframe tbody tr th:only-of-type {\n",
       "        vertical-align: middle;\n",
       "    }\n",
       "\n",
       "    .dataframe tbody tr th {\n",
       "        vertical-align: top;\n",
       "    }\n",
       "\n",
       "    .dataframe thead th {\n",
       "        text-align: right;\n",
       "    }\n",
       "</style>\n",
       "<table border=\"1\" class=\"dataframe\">\n",
       "  <thead>\n",
       "    <tr style=\"text-align: right;\">\n",
       "      <th></th>\n",
       "      <th>category</th>\n",
       "      <th>headline</th>\n",
       "      <th>authors</th>\n",
       "      <th>link</th>\n",
       "      <th>short_description</th>\n",
       "      <th>date</th>\n",
       "    </tr>\n",
       "  </thead>\n",
       "  <tbody>\n",
       "    <tr>\n",
       "      <th>0</th>\n",
       "      <td>CRIME</td>\n",
       "      <td>There Were 2 Mass Shootings In Texas Last Week...</td>\n",
       "      <td>Melissa Jeltsen</td>\n",
       "      <td>https://www.huffingtonpost.com/entry/texas-ama...</td>\n",
       "      <td>She left her husband. He killed their children...</td>\n",
       "      <td>2018-05-26</td>\n",
       "    </tr>\n",
       "    <tr>\n",
       "      <th>1</th>\n",
       "      <td>ENTERTAINMENT</td>\n",
       "      <td>Will Smith Joins Diplo And Nicky Jam For The 2...</td>\n",
       "      <td>Andy McDonald</td>\n",
       "      <td>https://www.huffingtonpost.com/entry/will-smit...</td>\n",
       "      <td>Of course it has a song.</td>\n",
       "      <td>2018-05-26</td>\n",
       "    </tr>\n",
       "    <tr>\n",
       "      <th>2</th>\n",
       "      <td>ENTERTAINMENT</td>\n",
       "      <td>Hugh Grant Marries For The First Time At Age 57</td>\n",
       "      <td>Ron Dicker</td>\n",
       "      <td>https://www.huffingtonpost.com/entry/hugh-gran...</td>\n",
       "      <td>The actor and his longtime girlfriend Anna Ebe...</td>\n",
       "      <td>2018-05-26</td>\n",
       "    </tr>\n",
       "    <tr>\n",
       "      <th>3</th>\n",
       "      <td>ENTERTAINMENT</td>\n",
       "      <td>Jim Carrey Blasts 'Castrato' Adam Schiff And D...</td>\n",
       "      <td>Ron Dicker</td>\n",
       "      <td>https://www.huffingtonpost.com/entry/jim-carre...</td>\n",
       "      <td>The actor gives Dems an ass-kicking for not fi...</td>\n",
       "      <td>2018-05-26</td>\n",
       "    </tr>\n",
       "    <tr>\n",
       "      <th>4</th>\n",
       "      <td>ENTERTAINMENT</td>\n",
       "      <td>Julianna Margulies Uses Donald Trump Poop Bags...</td>\n",
       "      <td>Ron Dicker</td>\n",
       "      <td>https://www.huffingtonpost.com/entry/julianna-...</td>\n",
       "      <td>The \"Dietland\" actress said using the bags is ...</td>\n",
       "      <td>2018-05-26</td>\n",
       "    </tr>\n",
       "  </tbody>\n",
       "</table>\n",
       "</div>"
      ],
      "text/plain": [
       "        category                                           headline  \\\n",
       "0          CRIME  There Were 2 Mass Shootings In Texas Last Week...   \n",
       "1  ENTERTAINMENT  Will Smith Joins Diplo And Nicky Jam For The 2...   \n",
       "2  ENTERTAINMENT    Hugh Grant Marries For The First Time At Age 57   \n",
       "3  ENTERTAINMENT  Jim Carrey Blasts 'Castrato' Adam Schiff And D...   \n",
       "4  ENTERTAINMENT  Julianna Margulies Uses Donald Trump Poop Bags...   \n",
       "\n",
       "           authors                                               link  \\\n",
       "0  Melissa Jeltsen  https://www.huffingtonpost.com/entry/texas-ama...   \n",
       "1    Andy McDonald  https://www.huffingtonpost.com/entry/will-smit...   \n",
       "2       Ron Dicker  https://www.huffingtonpost.com/entry/hugh-gran...   \n",
       "3       Ron Dicker  https://www.huffingtonpost.com/entry/jim-carre...   \n",
       "4       Ron Dicker  https://www.huffingtonpost.com/entry/julianna-...   \n",
       "\n",
       "                                   short_description       date  \n",
       "0  She left her husband. He killed their children... 2018-05-26  \n",
       "1                           Of course it has a song. 2018-05-26  \n",
       "2  The actor and his longtime girlfriend Anna Ebe... 2018-05-26  \n",
       "3  The actor gives Dems an ass-kicking for not fi... 2018-05-26  \n",
       "4  The \"Dietland\" actress said using the bags is ... 2018-05-26  "
      ]
     },
     "execution_count": 3,
     "metadata": {},
     "output_type": "execute_result"
    }
   ],
   "source": [
    "df.head()"
   ]
  },
  {
   "cell_type": "code",
   "execution_count": 4,
   "id": "8ddccaee",
   "metadata": {},
   "outputs": [
    {
     "data": {
      "text/plain": [
       "(200853, 6)"
      ]
     },
     "execution_count": 4,
     "metadata": {},
     "output_type": "execute_result"
    }
   ],
   "source": [
    "df.shape"
   ]
  },
  {
   "cell_type": "markdown",
   "id": "b0981a60",
   "metadata": {},
   "source": [
    "### Checking the dataset for null values"
   ]
  },
  {
   "cell_type": "code",
   "execution_count": 5,
   "id": "89fc0ea8",
   "metadata": {},
   "outputs": [
    {
     "data": {
      "text/plain": [
       "category             0\n",
       "headline             0\n",
       "authors              0\n",
       "link                 0\n",
       "short_description    0\n",
       "date                 0\n",
       "dtype: int64"
      ]
     },
     "execution_count": 5,
     "metadata": {},
     "output_type": "execute_result"
    }
   ],
   "source": [
    "df.isnull().sum()"
   ]
  },
  {
   "cell_type": "markdown",
   "id": "d477ecf0",
   "metadata": {},
   "source": [
    "### Visualising the data"
   ]
  },
  {
   "cell_type": "code",
   "execution_count": 10,
   "id": "e107c712",
   "metadata": {},
   "outputs": [
    {
     "data": {
      "text/plain": [
       "<AxesSubplot: xlabel='count', ylabel='category'>"
      ]
     },
     "execution_count": 10,
     "metadata": {},
     "output_type": "execute_result"
    },
    {
     "data": {
      "image/png": "[encoded data removed]",
      "text/plain": [
       "<Figure size 1500x1000 with 1 Axes>"
      ]
     },
     "metadata": {},
     "output_type": "display_data"
    }
   ],
   "source": [
    "fig, ax = plt.subplots(figsize = (15, 10))\n",
    "sns.countplot(ax = ax, y=df['category'])"
   ]
  },
  {
   "cell_type": "code",
   "execution_count": 7,
   "id": "58c0a2aa",
   "metadata": {},
   "outputs": [
    {
     "name": "stdout",
     "output_type": "stream",
     "text": [
      "<class 'pandas.core.frame.DataFrame'>\n",
      "RangeIndex: 200853 entries, 0 to 200852\n",
      "Data columns (total 6 columns):\n",
      " #   Column             Non-Null Count   Dtype         \n",
      "---  ------             --------------   -----         \n",
      " 0   category           200853 non-null  object        \n",
      " 1   headline           200853 non-null  object        \n",
      " 2   authors            200853 non-null  object        \n",
      " 3   link               200853 non-null  object        \n",
      " 4   short_description  200853 non-null  object        \n",
      " 5   date               200853 non-null  datetime64[ns]\n",
      "dtypes: datetime64[ns](1), object(5)\n",
      "memory usage: 9.2+ MB\n"
     ]
    }
   ],
   "source": [
    "df.info()"
   ]
  },
  {
   "cell_type": "markdown",
   "id": "ee50d5ab",
   "metadata": {},
   "source": [
    "### Converting the category column into category_label_encoding"
   ]
  },
  {
   "cell_type": "code",
   "execution_count": 8,
   "id": "5d770683",
   "metadata": {},
   "outputs": [
    {
     "data": {
      "text/plain": [
       "{'CRIME': 0,\n",
       " 'ENTERTAINMENT': 1,\n",
       " 'WORLD NEWS': 2,\n",
       " 'IMPACT': 3,\n",
       " 'POLITICS': 4,\n",
       " 'WEIRD NEWS': 5,\n",
       " 'BLACK VOICES': 6,\n",
       " 'WOMEN': 7,\n",
       " 'COMEDY': 8,\n",
       " 'QUEER VOICES': 9,\n",
       " 'SPORTS': 10,\n",
       " 'BUSINESS': 11,\n",
       " 'TRAVEL': 12,\n",
       " 'MEDIA': 13,\n",
       " 'TECH': 14,\n",
       " 'RELIGION': 15,\n",
       " 'SCIENCE': 16,\n",
       " 'LATINO VOICES': 17,\n",
       " 'EDUCATION': 18,\n",
       " 'COLLEGE': 19,\n",
       " 'PARENTS': 20,\n",
       " 'ARTS & CULTURE': 21,\n",
       " 'STYLE': 22,\n",
       " 'GREEN': 23,\n",
       " 'TASTE': 24,\n",
       " 'HEALTHY LIVING': 25,\n",
       " 'THE WORLDPOST': 26,\n",
       " 'GOOD NEWS': 27,\n",
       " 'WORLDPOST': 28,\n",
       " 'FIFTY': 29,\n",
       " 'ARTS': 30,\n",
       " 'WELLNESS': 31,\n",
       " 'PARENTING': 32,\n",
       " 'HOME & LIVING': 33,\n",
       " 'STYLE & BEAUTY': 34,\n",
       " 'DIVORCE': 35,\n",
       " 'WEDDINGS': 36,\n",
       " 'FOOD & DRINK': 37,\n",
       " 'MONEY': 38,\n",
       " 'ENVIRONMENT': 39,\n",
       " 'CULTURE & ARTS': 40}"
      ]
     },
     "execution_count": 8,
     "metadata": {},
     "output_type": "execute_result"
    }
   ],
   "source": [
    "category_label_enc = {value: key for key, value in enumerate(df.category.unique())}\n",
    "category_label_enc"
   ]
  },
  {
   "cell_type": "markdown",
   "id": "3614214f",
   "metadata": {},
   "source": [
    "### Preprocessing the dataset"
   ]
  },
  {
   "cell_type": "code",
   "execution_count": 161,
   "id": "4ffc119d",
   "metadata": {},
   "outputs": [],
   "source": [
    "def get_seq(t, token, train=True, max_seq_length=0):\n",
    "    seq = token.texts_to_sequences(t)\n",
    "    if train == True:\n",
    "        max_seq_length = np.max(list(map(lambda x: len(x), seq)))\n",
    "    seq = pad_sequences(seq, maxlen=max_seq_length, padding='post')\n",
    "    return seq\n",
    "\n",
    "def pi(df, lbl_map=None):\n",
    "    df_copy = df.copy()\n",
    "    df_copy = df_copy.loc[:, ['headline', 'category']]\n",
    "    cat_sam = []\n",
    "\n",
    "    for category in df['category'].unique():\n",
    "        cat_slice = df.query(\"category == @category\")\n",
    "        cat_sam.append(cat_slice.sample(10000, random_state=1, replace = True))\n",
    "        \n",
    "    df_copy = pd.concat(cat_sam, axis=0).sample(frac=1.0, random_state=1).reset_index(drop=True)\n",
    "    \n",
    "    df_copy['category'] = df_copy['category'].replace(lbl_map)\n",
    "    \n",
    "    y = df_copy['category']\n",
    "    X = df_copy['headline']\n",
    "    \n",
    "    X_train, X_test, y_train, y_test = train_test_split(X, y, train_size=0.75, shuffle=True, random_state=42)\n",
    "    \n",
    "    token = Tokenizer(num_words=10000)\n",
    "    token.fit_on_texts(X_train)\n",
    "    \n",
    "    X_train = get_seq(X_train, token, train=True)\n",
    "    X_test = get_seq(X_test, token, train=False, max_seq_length=X_train.shape[1])\n",
    "    \n",
    "    return X_train, X_test, y_train, y_test"
   ]
  },
  {
   "cell_type": "code",
   "execution_count": 162,
   "id": "754f7209",
   "metadata": {},
   "outputs": [],
   "source": [
    "x_train, x_test, y_train, y_test = pi(df, lbl_map=category_label_enc)"
   ]
  },
  {
   "cell_type": "code",
   "execution_count": 163,
   "id": "26404e49",
   "metadata": {},
   "outputs": [
    {
     "data": {
      "text/plain": [
       "array([[  15,    8,   14, ...,    0,    0,    0],\n",
       "       [ 561,  717,  820, ...,    0,    0,    0],\n",
       "       [5972, 5676,  837, ...,    0,    0,    0],\n",
       "       ...,\n",
       "       [ 129,    6,  974, ...,    0,    0,    0],\n",
       "       [2907,   85,   11, ...,    0,    0,    0],\n",
       "       [ 299, 4949, 7314, ...,    0,    0,    0]])"
      ]
     },
     "execution_count": 163,
     "metadata": {},
     "output_type": "execute_result"
    }
   ],
   "source": [
    "x_train"
   ]
  },
  {
   "cell_type": "code",
   "execution_count": 164,
   "id": "8172bb8d",
   "metadata": {},
   "outputs": [
    {
     "data": {
      "text/plain": [
       "array([[2500,   75, 1560, ...,    0,    0,    0],\n",
       "       [ 342,  227,    2, ...,    0,    0,    0],\n",
       "       [  17,  332, 6159, ...,    0,    0,    0],\n",
       "       ...,\n",
       "       [1128,    7,  101, ...,    0,    0,    0],\n",
       "       [ 270,   85, 1386, ...,    0,    0,    0],\n",
       "       [3778, 9396, 3060, ...,    0,    0,    0]])"
      ]
     },
     "execution_count": 164,
     "metadata": {},
     "output_type": "execute_result"
    }
   ],
   "source": [
    "x_test"
   ]
  },
  {
   "cell_type": "code",
   "execution_count": 165,
   "id": "a0d49959",
   "metadata": {},
   "outputs": [
    {
     "data": {
      "text/plain": [
       "42845     36\n",
       "59474      8\n",
       "222862    34\n",
       "54167     11\n",
       "170584    26\n",
       "          ..\n",
       "259178     2\n",
       "365838    39\n",
       "131932    39\n",
       "146867    37\n",
       "121958    23\n",
       "Name: category, Length: 307500, dtype: int64"
      ]
     },
     "execution_count": 165,
     "metadata": {},
     "output_type": "execute_result"
    }
   ],
   "source": [
    "y_train"
   ]
  },
  {
   "cell_type": "code",
   "execution_count": 166,
   "id": "07f4bc8c",
   "metadata": {},
   "outputs": [
    {
     "data": {
      "text/plain": [
       "258473    34\n",
       "403774    21\n",
       "366961    14\n",
       "9745       3\n",
       "22246     37\n",
       "          ..\n",
       "83375     21\n",
       "349093    24\n",
       "89917      8\n",
       "392158    25\n",
       "275855     6\n",
       "Name: category, Length: 102500, dtype: int64"
      ]
     },
     "execution_count": 166,
     "metadata": {},
     "output_type": "execute_result"
    }
   ],
   "source": [
    "y_test"
   ]
  },
  {
   "cell_type": "code",
   "execution_count": 167,
   "id": "583dbeb5",
   "metadata": {},
   "outputs": [
    {
     "name": "stdout",
     "output_type": "stream",
     "text": [
      "x_train shape =  (307500, 36)\n",
      "x_test shape =  (102500, 36)\n"
     ]
    }
   ],
   "source": [
    "print('x_train shape = ', x_train.shape)\n",
    "print('x_test shape = ', x_test.shape)"
   ]
  },
  {
   "cell_type": "code",
   "execution_count": 168,
   "id": "291d0ca7",
   "metadata": {},
   "outputs": [
    {
     "name": "stdout",
     "output_type": "stream",
     "text": [
      "41\n"
     ]
    }
   ],
   "source": [
    "num_classes = len(df['category'].unique())\n",
    "print(num_classes)"
   ]
  },
  {
   "cell_type": "code",
   "execution_count": 169,
   "id": "0b667eff",
   "metadata": {},
   "outputs": [
    {
     "name": "stdout",
     "output_type": "stream",
     "text": [
      "(36,)\n"
     ]
    }
   ],
   "source": [
    "input_shape = (x_train.shape[1],)\n",
    "print(input_shape)"
   ]
  },
  {
   "cell_type": "markdown",
   "id": "ca5f4855",
   "metadata": {},
   "source": [
    "### Creating the model"
   ]
  },
  {
   "cell_type": "code",
   "execution_count": 170,
   "id": "e20bbb94",
   "metadata": {},
   "outputs": [],
   "source": [
    "vocab_size = 10000\n",
    "embedding_dim = 64\n",
    "max_length = x_train.shape[0]"
   ]
  },
  {
   "cell_type": "code",
   "execution_count": 171,
   "id": "ad6d6bc5",
   "metadata": {},
   "outputs": [],
   "source": [
    "def modelfn(input_shape = input_shape):\n",
    "    x_input = Input(shape = input_shape)\n",
    "    x = x_input\n",
    "    x = Embedding(input_dim = vocab_size, output_dim = embedding_dim, input_length = max_length, trainable = True)(x)\n",
    "    x = LSTM(64, return_sequences = True)(x)\n",
    "    x = Flatten()(x)\n",
    "    x = Dense(128)(x)\n",
    "    x = Activation('relu')(x)\n",
    "    x = Dense(128)(x)\n",
    "    x = Activation('relu')(x)\n",
    "    x = Dense(num_classes)(x)\n",
    "    x = Activation('softmax')(x)\n",
    "    model = Model(inputs = x_input, outputs = x, name = 'modelfn')\n",
    "    return model"
   ]
  },
  {
   "cell_type": "code",
   "execution_count": 178,
   "id": "8ba8d88b",
   "metadata": {},
   "outputs": [],
   "source": [
    "lossfn = SparseCategoricalCrossentropy()\n",
    "optimizerfn = Adam(0.0001)\n",
    "callbackfn=[tensorflow.keras.callbacks.EarlyStopping(monitor='val_loss', patience=3, restore_best_weights=True)]"
   ]
  },
  {
   "cell_type": "code",
   "execution_count": 179,
   "id": "1cf500d0",
   "metadata": {},
   "outputs": [],
   "source": [
    "model = modelfn(input_shape = input_shape)"
   ]
  },
  {
   "cell_type": "code",
   "execution_count": 180,
   "id": "40f77863",
   "metadata": {},
   "outputs": [],
   "source": [
    "model.compile(optimizer = optimizerfn, loss = lossfn, metrics = [\"accuracy\"])"
   ]
  },
  {
   "cell_type": "markdown",
   "id": "353bc44f",
   "metadata": {},
   "source": [
    "### Model summary"
   ]
  },
  {
   "cell_type": "code",
   "execution_count": 181,
   "id": "cd22f8d3",
   "metadata": {},
   "outputs": [
    {
     "name": "stdout",
     "output_type": "stream",
     "text": [
      "Model: \"modelfn\"\n",
      "_________________________________________________________________\n",
      " Layer (type)                Output Shape              Param #   \n",
      "=================================================================\n",
      " input_31 (InputLayer)       [(None, 36)]              0         \n",
      "                                                                 \n",
      " embedding_26 (Embedding)    (None, 36, 64)            640000    \n",
      "                                                                 \n",
      " lstm_31 (LSTM)              (None, 36, 64)            33024     \n",
      "                                                                 \n",
      " flatten_21 (Flatten)        (None, 2304)              0         \n",
      "                                                                 \n",
      " dense_33 (Dense)            (None, 128)               295040    \n",
      "                                                                 \n",
      " activation_33 (Activation)  (None, 128)               0         \n",
      "                                                                 \n",
      " dense_34 (Dense)            (None, 128)               16512     \n",
      "                                                                 \n",
      " activation_34 (Activation)  (None, 128)               0         \n",
      "                                                                 \n",
      " dense_35 (Dense)            (None, 41)                5289      \n",
      "                                                                 \n",
      " activation_35 (Activation)  (None, 41)                0         \n",
      "                                                                 \n",
      "=================================================================\n",
      "Total params: 989,865\n",
      "Trainable params: 989,865\n",
      "Non-trainable params: 0\n",
      "_________________________________________________________________\n"
     ]
    }
   ],
   "source": [
    "model.summary()"
   ]
  },
  {
   "cell_type": "markdown",
   "id": "7d2cbedb",
   "metadata": {},
   "source": [
    "### Training the model"
   ]
  },
  {
   "cell_type": "code",
   "execution_count": 182,
   "id": "61b4a902",
   "metadata": {},
   "outputs": [
    {
     "name": "stdout",
     "output_type": "stream",
     "text": [
      "Epoch 1/100\n",
      "3844/3844 [==============================] - 163s 42ms/step - loss: 2.9116 - accuracy: 0.2046 - val_loss: 2.4229 - val_accuracy: 0.3258\n",
      "Epoch 2/100\n",
      "3844/3844 [==============================] - 160s 42ms/step - loss: 2.2447 - accuracy: 0.3800 - val_loss: 2.1557 - val_accuracy: 0.4085\n",
      "Epoch 3/100\n",
      "3844/3844 [==============================] - 160s 42ms/step - loss: 2.0280 - accuracy: 0.4428 - val_loss: 2.0163 - val_accuracy: 0.4491\n",
      "Epoch 4/100\n",
      "3844/3844 [==============================] - 160s 42ms/step - loss: 1.8849 - accuracy: 0.4863 - val_loss: 1.9081 - val_accuracy: 0.4831\n",
      "Epoch 5/100\n",
      "3844/3844 [==============================] - 161s 42ms/step - loss: 1.7806 - accuracy: 0.5159 - val_loss: 1.8403 - val_accuracy: 0.5033\n",
      "Epoch 6/100\n",
      "3844/3844 [==============================] - 160s 42ms/step - loss: 1.7061 - accuracy: 0.5381 - val_loss: 1.7883 - val_accuracy: 0.5207\n",
      "Epoch 7/100\n",
      "3844/3844 [==============================] - 160s 42ms/step - loss: 1.6402 - accuracy: 0.5554 - val_loss: 1.7473 - val_accuracy: 0.5318\n",
      "Epoch 8/100\n",
      "3844/3844 [==============================] - 161s 42ms/step - loss: 1.5729 - accuracy: 0.5744 - val_loss: 1.6813 - val_accuracy: 0.5524\n",
      "Epoch 9/100\n",
      "3844/3844 [==============================] - 161s 42ms/step - loss: 1.5027 - accuracy: 0.5937 - val_loss: 1.6239 - val_accuracy: 0.5681\n",
      "Epoch 10/100\n",
      "3844/3844 [==============================] - 161s 42ms/step - loss: 1.4362 - accuracy: 0.6121 - val_loss: 1.5853 - val_accuracy: 0.5783\n",
      "Epoch 11/100\n",
      "3844/3844 [==============================] - 161s 42ms/step - loss: 1.3765 - accuracy: 0.6285 - val_loss: 1.5284 - val_accuracy: 0.5963\n",
      "Epoch 12/100\n",
      "3844/3844 [==============================] - 161s 42ms/step - loss: 1.3212 - accuracy: 0.6432 - val_loss: 1.4885 - val_accuracy: 0.6080\n",
      "Epoch 13/100\n",
      "3844/3844 [==============================] - 162s 42ms/step - loss: 1.2688 - accuracy: 0.6577 - val_loss: 1.4607 - val_accuracy: 0.6164\n",
      "Epoch 14/100\n",
      "3844/3844 [==============================] - 162s 42ms/step - loss: 1.2190 - accuracy: 0.6708 - val_loss: 1.4227 - val_accuracy: 0.6252\n",
      "Epoch 15/100\n",
      "3844/3844 [==============================] - 162s 42ms/step - loss: 1.1685 - accuracy: 0.6843 - val_loss: 1.3933 - val_accuracy: 0.6370\n",
      "Epoch 16/100\n",
      "3844/3844 [==============================] - 161s 42ms/step - loss: 1.1208 - accuracy: 0.6979 - val_loss: 1.3663 - val_accuracy: 0.6453\n",
      "Epoch 17/100\n",
      "3844/3844 [==============================] - 162s 42ms/step - loss: 1.0746 - accuracy: 0.7098 - val_loss: 1.3243 - val_accuracy: 0.6582\n",
      "Epoch 18/100\n",
      "3844/3844 [==============================] - 162s 42ms/step - loss: 1.0318 - accuracy: 0.7217 - val_loss: 1.3008 - val_accuracy: 0.6669\n",
      "Epoch 19/100\n",
      "3844/3844 [==============================] - 162s 42ms/step - loss: 0.9937 - accuracy: 0.7317 - val_loss: 1.2773 - val_accuracy: 0.6750\n",
      "Epoch 20/100\n",
      "3844/3844 [==============================] - 162s 42ms/step - loss: 0.9583 - accuracy: 0.7415 - val_loss: 1.2564 - val_accuracy: 0.6826\n",
      "Epoch 21/100\n",
      "3844/3844 [==============================] - 162s 42ms/step - loss: 0.9240 - accuracy: 0.7508 - val_loss: 1.2499 - val_accuracy: 0.6873\n",
      "Epoch 22/100\n",
      "3844/3844 [==============================] - 162s 42ms/step - loss: 0.8930 - accuracy: 0.7598 - val_loss: 1.2298 - val_accuracy: 0.6930\n",
      "Epoch 23/100\n",
      "3844/3844 [==============================] - 163s 42ms/step - loss: 0.8647 - accuracy: 0.7665 - val_loss: 1.2001 - val_accuracy: 0.7063\n",
      "Epoch 24/100\n",
      "3844/3844 [==============================] - 169s 44ms/step - loss: 0.8355 - accuracy: 0.7748 - val_loss: 1.1960 - val_accuracy: 0.7075\n",
      "Epoch 25/100\n",
      "3844/3844 [==============================] - 178s 46ms/step - loss: 0.8086 - accuracy: 0.7821 - val_loss: 1.1905 - val_accuracy: 0.7107\n",
      "Epoch 26/100\n",
      "3844/3844 [==============================] - 162s 42ms/step - loss: 0.7822 - accuracy: 0.7887 - val_loss: 1.1583 - val_accuracy: 0.7208\n",
      "Epoch 27/100\n",
      "3844/3844 [==============================] - 163s 42ms/step - loss: 0.7565 - accuracy: 0.7966 - val_loss: 1.1495 - val_accuracy: 0.7248\n",
      "Epoch 28/100\n",
      "3844/3844 [==============================] - 163s 42ms/step - loss: 0.7314 - accuracy: 0.8025 - val_loss: 1.1362 - val_accuracy: 0.7293\n",
      "Epoch 29/100\n",
      "3844/3844 [==============================] - 163s 42ms/step - loss: 0.7074 - accuracy: 0.8095 - val_loss: 1.1268 - val_accuracy: 0.7351\n",
      "Epoch 30/100\n",
      "3844/3844 [==============================] - 162s 42ms/step - loss: 0.6850 - accuracy: 0.8161 - val_loss: 1.1287 - val_accuracy: 0.7376\n",
      "Epoch 31/100\n",
      "3844/3844 [==============================] - 162s 42ms/step - loss: 0.6637 - accuracy: 0.8218 - val_loss: 1.1192 - val_accuracy: 0.7403\n",
      "Epoch 32/100\n",
      "3844/3844 [==============================] - 163s 42ms/step - loss: 0.6432 - accuracy: 0.8264 - val_loss: 1.1066 - val_accuracy: 0.7514\n",
      "Epoch 33/100\n",
      "3844/3844 [==============================] - 163s 42ms/step - loss: 0.6204 - accuracy: 0.8333 - val_loss: 1.0998 - val_accuracy: 0.7542\n",
      "Epoch 34/100\n",
      "3844/3844 [==============================] - 162s 42ms/step - loss: 0.6040 - accuracy: 0.8377 - val_loss: 1.0945 - val_accuracy: 0.7563\n",
      "Epoch 35/100\n",
      "3844/3844 [==============================] - 163s 42ms/step - loss: 0.5835 - accuracy: 0.8432 - val_loss: 1.1016 - val_accuracy: 0.7565\n",
      "Epoch 36/100\n",
      "3844/3844 [==============================] - 163s 42ms/step - loss: 0.5662 - accuracy: 0.8480 - val_loss: 1.0915 - val_accuracy: 0.7611\n",
      "Epoch 37/100\n",
      "3844/3844 [==============================] - 169s 44ms/step - loss: 0.5499 - accuracy: 0.8525 - val_loss: 1.0981 - val_accuracy: 0.7621\n",
      "Epoch 38/100\n",
      "3844/3844 [==============================] - 164s 43ms/step - loss: 0.5331 - accuracy: 0.8571 - val_loss: 1.0756 - val_accuracy: 0.7728\n",
      "Epoch 39/100\n",
      "3844/3844 [==============================] - 163s 42ms/step - loss: 0.5163 - accuracy: 0.8623 - val_loss: 1.0901 - val_accuracy: 0.7717\n",
      "Epoch 40/100\n",
      "3844/3844 [==============================] - 163s 42ms/step - loss: 0.5025 - accuracy: 0.8654 - val_loss: 1.0783 - val_accuracy: 0.7784\n",
      "Epoch 41/100\n",
      "3844/3844 [==============================] - 163s 42ms/step - loss: 0.4872 - accuracy: 0.8708 - val_loss: 1.0855 - val_accuracy: 0.7780\n"
     ]
    }
   ],
   "source": [
    "history = model.fit(x_train, y_train, validation_split=0.2, batch_size=64, epochs=100, callbacks = callbackfn)"
   ]
  },
  {
   "cell_type": "code",
   "execution_count": 183,
   "id": "4037b133",
   "metadata": {},
   "outputs": [
    {
     "data": {
      "image/png": "[encoded data removed]",
      "text/plain": [
       "<Figure size 1200x400 with 2 Axes>"
      ]
     },
     "metadata": {},
     "output_type": "display_data"
    }
   ],
   "source": [
    "fig, axes = plt.subplots(1, 2, figsize = (12, 4))\n",
    "\n",
    "sns.lineplot(x = range(len(history.history[\"loss\"])), y = history.history[\"loss\"], ax = axes[0], label = \"Training Loss\")\n",
    "sns.lineplot(x = range(len(history.history[\"loss\"])), y = history.history[\"val_loss\"], ax = axes[0], label = \"Validation Loss\")\n",
    "\n",
    "sns.lineplot(x = range(len(history.history[\"accuracy\"])), y = history.history[\"accuracy\"], ax = axes[1], label = \"Training Accuracy\")\n",
    "sns.lineplot(x = range(len(history.history[\"accuracy\"])), y = history.history[\"val_accuracy\"], ax = axes[1], label = \"Validation Accuracy\")\n",
    "axes[0].set_title(\"Loss\"); axes[1].set_title(\"Accuracy\")\n",
    "\n",
    "sns.despine()\n",
    "plt.show()"
   ]
  },
  {
   "cell_type": "markdown",
   "id": "7d1e8b0b",
   "metadata": {},
   "source": [
    "### Testing the model"
   ]
  },
  {
   "cell_type": "code",
   "execution_count": 184,
   "id": "0c6e4f8f",
   "metadata": {},
   "outputs": [
    {
     "name": "stdout",
     "output_type": "stream",
     "text": [
      "3204/3204 [==============================] - 25s 8ms/step - loss: 1.0924 - accuracy: 0.7704\n"
     ]
    },
    {
     "data": {
      "text/plain": [
       "0.770429253578186"
      ]
     },
     "execution_count": 184,
     "metadata": {},
     "output_type": "execute_result"
    }
   ],
   "source": [
    "model.evaluate(x_test, y_test)[1]"
   ]
  },
  {
   "cell_type": "code",
   "execution_count": null,
   "id": "2dc5a7fe",
   "metadata": {},
   "outputs": [],
   "source": []
  }
 ],
 "metadata": {
  "kernelspec": {
   "display_name": "Python 3 (ipykernel)",
   "language": "python",
   "name": "python3"
  },
  "language_info": {
   "codemirror_mode": {
    "name": "ipython",
    "version": 3
   },
   "file_extension": ".py",
   "mimetype": "text/x-python",
   "name": "python",
   "nbconvert_exporter": "python",
   "pygments_lexer": "ipython3",
   "version": "3.10.8"
  }
 },
 "nbformat": 4,
 "nbformat_minor": 5
}
